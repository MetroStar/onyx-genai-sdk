{
 "cells": [
  {
   "cell_type": "markdown",
   "metadata": {},
   "source": [
    "# Setup Environment"
   ]
  },
  {
   "cell_type": "code",
   "execution_count": null,
   "metadata": {},
   "outputs": [],
   "source": [
    "# To run locally, uncomment the below\n",
    "# ! pip install -e ../\n",
    "\n",
    "# To run in Onyx, uncomment the below\n",
    "import sys\n",
    "sys.path.append(\"..\")"
   ]
  },
  {
   "cell_type": "code",
   "execution_count": null,
   "metadata": {},
   "outputs": [],
   "source": [
    "from onyxgenai.extract import extract_text_from_folder, tokenize_sentences\n",
    "from onyxgenai.embed import Embedder\n",
    "from onyxgenai.generate import TextGenerator\n",
    "from onyxgenai.model import ModelStore"
   ]
  },
  {
   "cell_type": "markdown",
   "metadata": {},
   "source": [
    "# Extract text from mixed document types"
   ]
  },
  {
   "cell_type": "code",
   "execution_count": null,
   "metadata": {},
   "outputs": [],
   "source": [
    "text,files = extract_text_from_folder(\"../data\")\n",
    "all_sentences = tokenize_sentences(text) \n",
    "sentences = [s for ss in all_sentences for s in ss] #flatten"
   ]
  },
  {
   "cell_type": "markdown",
   "metadata": {},
   "source": [
    "# Embed and persist data"
   ]
  },
  {
   "cell_type": "code",
   "execution_count": null,
   "metadata": {},
   "outputs": [],
   "source": [
    "embedding_service = Embedder(\"http://embed.onyx-services/\", model=\"all-MiniLM-L6-v2\", model_version=8, num_workers=1, collection_name=\"test_collection\")\n",
    "embeddings= embedding_service.embed_text(sentences)\n"
   ]
  },
  {
   "cell_type": "markdown",
   "metadata": {},
   "source": [
    "# Start/Serve the Embedding Model"
   ]
  },
  {
   "cell_type": "code",
   "execution_count": null,
   "metadata": {},
   "outputs": [],
   "source": [
    "model_service = ModelStore(\"http://store.onyx-services/\")\n",
    "app_name = model_service.serve_model(model=\"all-MiniLM-L6-v2\", model_version=8, app_name=\"minilm\")\n",
    "print(app_name)"
   ]
  },
  {
   "cell_type": "markdown",
   "metadata": {},
   "source": [
    "# Shutdown the services"
   ]
  },
  {
   "cell_type": "code",
   "execution_count": null,
   "metadata": {},
   "outputs": [],
   "source": [
    "model_service.stop_model(app_name)\n"
   ]
  },
  {
   "cell_type": "markdown",
   "metadata": {},
   "source": [
    "# Get List of Available Models"
   ]
  },
  {
   "cell_type": "code",
   "execution_count": null,
   "metadata": {},
   "outputs": [],
   "source": [
    "model_service = ModelStore(\"http://store.onyx-services/\")\n",
    "models = model_service.get_models()\n",
    "print(models)"
   ]
  },
  {
   "cell_type": "markdown",
   "metadata": {},
   "source": [
    "## Get List of Deployed Models"
   ]
  },
  {
   "cell_type": "code",
   "execution_count": null,
   "metadata": {},
   "outputs": [],
   "source": [
    "model_service = ModelStore(\"http://store.onyx-services/\")\n",
    "deployments = model_service.get_deployments()\n",
    "print(deployments)"
   ]
  }
 ],
 "metadata": {
  "kernelspec": {
   "display_name": ".venv",
   "language": "python",
   "name": "python3"
  },
  "language_info": {
   "codemirror_mode": {
    "name": "ipython",
    "version": 3
   },
   "file_extension": ".py",
   "mimetype": "text/x-python",
   "name": "python",
   "nbconvert_exporter": "python",
   "pygments_lexer": "ipython3",
   "version": "3.10.14"
  }
 },
 "nbformat": 4,
 "nbformat_minor": 2
}
