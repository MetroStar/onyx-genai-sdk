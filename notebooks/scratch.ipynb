{
 "cells": [
  {
   "cell_type": "code",
   "execution_count": 1,
   "metadata": {},
   "outputs": [
    {
     "name": "stdout",
     "output_type": "stream",
     "text": [
      "Obtaining file:///home/jdownes/onyx-genai-devkit\n",
      "Installing collected packages: onyxgenai\n",
      "  Attempting uninstall: onyxgenai\n",
      "    Found existing installation: onyxgenai 0.1\n",
      "    Uninstalling onyxgenai-0.1:\n",
      "      Successfully uninstalled onyxgenai-0.1\n",
      "  Running setup.py develop for onyxgenai\n",
      "Successfully installed onyxgenai\n"
     ]
    }
   ],
   "source": [
    "# To run locally, uncomment the below\n",
    "# ! pip install -e ../\n",
    "\n",
    "# To run in Onyx, uncomment the below\n",
    "# import sys\n",
    "# sys.path.append(\"..\")"
   ]
  },
  {
   "cell_type": "code",
   "execution_count": 2,
   "metadata": {},
   "outputs": [],
   "source": [
    "from onyxgenai.extract import extract_text_from_folder, tokenize_sentences\n",
    "from onyxgenai.embed import Embedder\n",
    "from onyxgenai.generate import TextGenerator\n",
    "from onyxgenai.model import ModelStore"
   ]
  },
  {
   "cell_type": "markdown",
   "metadata": {},
   "source": [
    "# Extract text from mixed document types"
   ]
  },
  {
   "cell_type": "code",
   "execution_count": 3,
   "metadata": {},
   "outputs": [],
   "source": [
    "text,files = extract_text_from_folder(\"../data\")\n",
    "all_sentences = tokenize_sentences(text) \n",
    "sentences = [s for ss in all_sentences for s in ss] #flatten"
   ]
  },
  {
   "cell_type": "markdown",
   "metadata": {},
   "source": [
    "# Embed and persist this data for RAG"
   ]
  },
  {
   "cell_type": "code",
   "execution_count": 4,
   "metadata": {},
   "outputs": [
    {
     "name": "stdout",
     "output_type": "stream",
     "text": [
      "embedding 55 items\n"
     ]
    }
   ],
   "source": [
    "embedding_service = Embedder(\"http://embed.onyx-services/\", model=\"all-MiniLM-L6-v2\", model_version=8, num_workers=4, collection_name=\"Sample_RAG_Demo\")\n",
    "embeddings= embedding_service.embed_text(sentences)\n"
   ]
  },
  {
   "cell_type": "markdown",
   "metadata": {},
   "source": [
    "# Start RAG/GenAI services\n",
    "This allows for realtime usage and persistent service"
   ]
  },
  {
   "cell_type": "code",
   "execution_count": 5,
   "metadata": {},
   "outputs": [],
   "source": [
    "embedding_service_id = embedding_service.start_service( n_workers=1)\n",
    "\n",
    "generator_service = TextGenerator(\"http://generate.onyx-services/\",model=\"Mistral-Instruct-7B\")\n",
    "generator_service_id = generator_service.start_service()"
   ]
  },
  {
   "cell_type": "markdown",
   "metadata": {},
   "source": [
    "# Execute a RAG workflow"
   ]
  },
  {
   "cell_type": "code",
   "execution_count": 6,
   "metadata": {},
   "outputs": [],
   "source": [
    "prompt = \"What ticketing tools has DHS utilized for IT services?\"\n",
    "answer = generator_service.generate(prompt,context=embedding_service.query_text(prompt) )\n"
   ]
  },
  {
   "cell_type": "code",
   "execution_count": 7,
   "metadata": {},
   "outputs": [
    {
     "name": "stdout",
     "output_type": "stream",
     "text": [
      "This is sample response from Mistral-Instruct-7B, with prompt of 'What ticketing tools has DHS utilized for IT services?' with context of ['This is result 0', 'This is result 1', 'This is result 2', 'This is result 3', 'This is result 4']\n"
     ]
    }
   ],
   "source": [
    "print(answer)"
   ]
  },
  {
   "cell_type": "markdown",
   "metadata": {},
   "source": [
    "# Shutdown the services"
   ]
  },
  {
   "cell_type": "code",
   "execution_count": 8,
   "metadata": {},
   "outputs": [],
   "source": [
    "generator_service.stop_service()\n",
    "embedding_service.stop_service()\n"
   ]
  },
  {
   "cell_type": "markdown",
   "metadata": {},
   "source": [
    "# Get List of Available Models"
   ]
  },
  {
   "cell_type": "code",
   "execution_count": null,
   "metadata": {},
   "outputs": [],
   "source": [
    "model_service = ModelStore(\"http://store.onyx-services/\")\n",
    "models = model_service.get_models()\n",
    "print(models)"
   ]
  }
 ],
 "metadata": {
  "kernelspec": {
   "display_name": ".venv",
   "language": "python",
   "name": "python3"
  },
  "language_info": {
   "codemirror_mode": {
    "name": "ipython",
    "version": 3
   },
   "file_extension": ".py",
   "mimetype": "text/x-python",
   "name": "python",
   "nbconvert_exporter": "python",
   "pygments_lexer": "ipython3",
   "version": "3.8.10"
  }
 },
 "nbformat": 4,
 "nbformat_minor": 2
}
