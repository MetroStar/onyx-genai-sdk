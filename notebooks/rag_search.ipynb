{
 "cells": [
  {
   "cell_type": "markdown",
   "metadata": {},
   "source": [
    "# Setup Environment"
   ]
  },
  {
   "cell_type": "code",
   "execution_count": null,
   "metadata": {},
   "outputs": [],
   "source": [
    "# To run locally, uncomment the below\n",
    "# ! pip install -e ../\n",
    "\n",
    "# To run in Onyx, uncomment the below\n",
    "import sys\n",
    "sys.path.append(\"..\")"
   ]
  },
  {
   "cell_type": "code",
   "execution_count": null,
   "metadata": {},
   "outputs": [],
   "source": [
    "from onyxgenai.embed import Embedder\n",
    "from onyxgenai.model import ModelStore\n",
    "\n",
    "embedding_model = \"all-MiniLM-L6-v2\"\n",
    "llm_model = \"Mistral-7B-Instruct-v0.3\"\n",
    "collection_name = \"test_collection\"\n",
    "query = \"What is the capital of France?\"\n",
    "\n",
    "embedding_service = Embedder(\"http://embed.onyx-services/\", model=embedding_model, model_version=1, num_workers=2, collection_name=collection_name)\n",
    "model_service = ModelStore(\"http://store.onyx-services/\")"
   ]
  },
  {
   "cell_type": "markdown",
   "metadata": {},
   "source": [
    "# Start/Serve Embedding Model"
   ]
  },
  {
   "cell_type": "code",
   "execution_count": null,
   "metadata": {},
   "outputs": [],
   "source": [
    "embedding_app_name = model_service.serve_model(model=embedding_model, model_version=1, replicas=2, options={\"num_cpus\": 2, \"memory\": 8000 * 1024 * 1024})\n",
    "print(embedding_app_name)"
   ]
  },
  {
   "cell_type": "markdown",
   "metadata": {},
   "source": [
    "# Start/Serve LLM"
   ]
  },
  {
   "cell_type": "code",
   "execution_count": null,
   "metadata": {},
   "outputs": [],
   "source": [
    "llm_app_name = model_service.serve_model(model=llm_model, model_version=1, replicas=1, options={})\n",
    "print(llm_app_name)"
   ]
  },
  {
   "cell_type": "markdown",
   "metadata": {},
   "source": [
    "# Embed Prompt for Vector Search"
   ]
  },
  {
   "cell_type": "code",
   "execution_count": null,
   "metadata": {},
   "outputs": [],
   "source": [
    "data = [query]\n",
    "embeddings = model_service.predict_text(app_name=embedding_model, data=data)\n",
    "print(embeddings)"
   ]
  },
  {
   "cell_type": "markdown",
   "metadata": {},
   "source": [
    "# Perform Vector Search"
   ]
  },
  {
   "cell_type": "code",
   "execution_count": null,
   "metadata": {},
   "outputs": [],
   "source": [
    "\n",
    "embedded_prompt = embeddings[\"embeddings\"][0]\n",
    "vector_data = embedding_service.vector_search(embedded_prompt, collection_name)\n",
    "vector_data_results = vector_data[\"results\"]\n",
    "print(vector_data_results)"
   ]
  },
  {
   "cell_type": "markdown",
   "metadata": {},
   "source": [
    "# Execute a RAG Search"
   ]
  },
  {
   "cell_type": "code",
   "execution_count": null,
   "metadata": {},
   "outputs": [],
   "source": [
    "# Append RAG Data for Knowledge\n",
    "context = \"\"\n",
    "if vector_data_results:\n",
    "    for data in vector_data_results:\n",
    "        context = context + data[\"payload\"][\"text\"]\n",
    "\n",
    "prompt = f\"\"\"\n",
    "Context Information:\n",
    "---------------------\n",
    "{context}\n",
    "---------------------\n",
    "Answer the following question using only the context information. If the question cannot be answered, say so.\n",
    "Query: {query}\n",
    "Answer:\n",
    "\"\"\"  # noqa: E501\n",
    "\n",
    "answer = model_service.generate_text(app_name=llm_model, prompt=prompt)"
   ]
  },
  {
   "cell_type": "code",
   "execution_count": null,
   "metadata": {},
   "outputs": [],
   "source": [
    "print(answer)"
   ]
  },
  {
   "cell_type": "markdown",
   "metadata": {},
   "source": [
    "# Stop/Shutdown Models"
   ]
  },
  {
   "cell_type": "code",
   "execution_count": null,
   "metadata": {},
   "outputs": [],
   "source": [
    "model_service.stop_model(embedding_model)\n",
    "model_service.stop_model(llm_model)\n"
   ]
  }
 ],
 "metadata": {
  "kernelspec": {
   "display_name": ".venv",
   "language": "python",
   "name": "python3"
  },
  "language_info": {
   "codemirror_mode": {
    "name": "ipython",
    "version": 3
   },
   "file_extension": ".py",
   "mimetype": "text/x-python",
   "name": "python",
   "nbconvert_exporter": "python",
   "pygments_lexer": "ipython3",
   "version": "3.10.14"
  }
 },
 "nbformat": 4,
 "nbformat_minor": 2
}
