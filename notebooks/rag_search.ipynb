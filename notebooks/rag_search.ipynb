{
 "cells": [
  {
   "cell_type": "markdown",
   "metadata": {},
   "source": [
    "# Setup Environment"
   ]
  },
  {
   "cell_type": "code",
   "execution_count": null,
   "metadata": {},
   "outputs": [],
   "source": [
    "# To run locally, uncomment the below\n",
    "# ! pip install -e ../\n",
    "\n",
    "# To run in Onyx, uncomment the below\n",
    "import sys\n",
    "sys.path.append(\"..\")\n",
    "\n",
    "from onyxgenai.embed import EmbeddingClient\n",
    "from onyxgenai.model import ModelClient\n",
    "\n",
    "embedding_client = EmbeddingClient(\"http://embed.onyx-services\")\n",
    "model_client = ModelClient(\"http://store.onyx-services\")"
   ]
  },
  {
   "cell_type": "markdown",
   "metadata": {},
   "source": [
    "# Deploy Embedding Model"
   ]
  },
  {
   "cell_type": "code",
   "execution_count": null,
   "metadata": {},
   "outputs": [],
   "source": [
    "embedding_model = model_client.deploy_model(\"all-MiniLM-L6-v2\", 1, 2, {\"num_cpus\": 2, \"memory\": 8000 * 1024 * 1024})"
   ]
  },
  {
   "cell_type": "markdown",
   "metadata": {},
   "source": [
    "# Deploy LLM"
   ]
  },
  {
   "cell_type": "code",
   "execution_count": null,
   "metadata": {},
   "outputs": [],
   "source": [
    "language_model = model_client.deploy_model(\"Mistral-7B-Instruct-v0.3\", 1, 1, {})"
   ]
  },
  {
   "cell_type": "markdown",
   "metadata": {},
   "source": [
    "# Embed Prompt for Vector Search"
   ]
  },
  {
   "cell_type": "code",
   "execution_count": null,
   "metadata": {},
   "outputs": [],
   "source": [
    "query = \"What is the capital of France?\"\n",
    "data = [query]\n",
    "embeddings = model_client.embed_text(data, embedding_model)"
   ]
  },
  {
   "cell_type": "markdown",
   "metadata": {},
   "source": [
    "# Perform Vector Search"
   ]
  },
  {
   "cell_type": "code",
   "execution_count": null,
   "metadata": {},
   "outputs": [],
   "source": [
    "vector_data = embedding_client.vector_search(embeddings, \"test_collection\")\n",
    "print(vector_data)"
   ]
  },
  {
   "cell_type": "markdown",
   "metadata": {},
   "source": [
    "# Execute a RAG Search"
   ]
  },
  {
   "cell_type": "code",
   "execution_count": null,
   "metadata": {},
   "outputs": [],
   "source": [
    "# Append RAG Data for Knowledge\n",
    "context = \"\"\n",
    "if vector_data:\n",
    "    for data in vector_data:\n",
    "        context = context + data[\"payload\"][\"text\"]\n",
    "\n",
    "prompt = f\"\"\"\n",
    "Context Information:\n",
    "---------------------\n",
    "{context}\n",
    "---------------------\n",
    "Answer the following question using only the context information. If the question cannot be answered, say so.\n",
    "Query: {query}\n",
    "Answer:\n",
    "\"\"\"  # noqa: E501\n",
    "\n",
    "answer = model_client.generate_completion(prompt, model_name=\"Mistral-7B-Instruct-v0.3\")\n",
    "print(answer)"
   ]
  },
  {
   "cell_type": "markdown",
   "metadata": {},
   "source": [
    "# Delete Model Deployments"
   ]
  },
  {
   "cell_type": "code",
   "execution_count": null,
   "metadata": {},
   "outputs": [],
   "source": [
    "model_client.delete_deployment(embedding_model)\n",
    "model_client.delete_deployment(language_model)"
   ]
  }
 ],
 "metadata": {
  "kernelspec": {
   "display_name": ".venv",
   "language": "python",
   "name": "python3"
  },
  "language_info": {
   "codemirror_mode": {
    "name": "ipython",
    "version": 3
   },
   "file_extension": ".py",
   "mimetype": "text/x-python",
   "name": "python",
   "nbconvert_exporter": "python",
   "pygments_lexer": "ipython3",
   "version": "3.10.14"
  }
 },
 "nbformat": 4,
 "nbformat_minor": 2
}
