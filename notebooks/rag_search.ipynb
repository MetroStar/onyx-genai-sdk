{
 "cells": [
  {
   "cell_type": "markdown",
   "metadata": {},
   "source": [
    "# Setup Environment"
   ]
  },
  {
   "cell_type": "code",
   "execution_count": null,
   "metadata": {},
   "outputs": [],
   "source": [
    "# To run locally, uncomment the below\n",
    "# ! pip install -e ../\n",
    "\n",
    "# To run in Onyx, uncomment the below\n",
    "import sys\n",
    "sys.path.append(\"..\")\n",
    "\n",
    "from onyxgenai.embed import EmbeddingClient\n",
    "from onyxgenai.model import ModelClient\n",
    "\n",
    "collection_name = \"test_collection\"\n",
    "embedding_client = EmbeddingClient(\"http://embed.onyx-services\", model_name=\"all-MiniLM-L6-v2\", model_version=1, num_workers=2, collection_name=collection_name)\n",
    "embedding_model_client = ModelClient(\"http://store.onyx-services\", model_name=\"all-MiniLM-L6-v2\", model_version=1, replicas=2, deployment_name=\"MiniLM\", options={\"num_cpus\": 2, \"memory\": 8000 * 1024 * 1024})\n",
    "llm_client = ModelClient(\"http://store.onyx-services\", model_name=\"Mistral-7B-Instruct-v0.3\", model_version=1, replicas=1, deployment_name=\"Mistral\", options={})"
   ]
  },
  {
   "cell_type": "markdown",
   "metadata": {},
   "source": [
    "# Deploy Embedding Model"
   ]
  },
  {
   "cell_type": "code",
   "execution_count": null,
   "metadata": {},
   "outputs": [],
   "source": [
    "embedding_model_client.deploy_model()"
   ]
  },
  {
   "cell_type": "markdown",
   "metadata": {},
   "source": [
    "# Deploy LLM"
   ]
  },
  {
   "cell_type": "code",
   "execution_count": null,
   "metadata": {},
   "outputs": [],
   "source": [
    "llm_client.deploy_model()"
   ]
  },
  {
   "cell_type": "markdown",
   "metadata": {},
   "source": [
    "# Embed Prompt for Vector Search"
   ]
  },
  {
   "cell_type": "code",
   "execution_count": null,
   "metadata": {},
   "outputs": [],
   "source": [
    "query = \"What is the capital of France?\"\n",
    "data = [query]\n",
    "embeddings = embedding_model_client.embed_text(data)"
   ]
  },
  {
   "cell_type": "markdown",
   "metadata": {},
   "source": [
    "# Perform Vector Search"
   ]
  },
  {
   "cell_type": "code",
   "execution_count": null,
   "metadata": {},
   "outputs": [],
   "source": [
    "vector_data = embedding_client.vector_search(embeddings, collection_name)\n",
    "vector_data_results = vector_data[\"results\"]\n",
    "print(vector_data_results)"
   ]
  },
  {
   "cell_type": "markdown",
   "metadata": {},
   "source": [
    "# Execute a RAG Search"
   ]
  },
  {
   "cell_type": "code",
   "execution_count": null,
   "metadata": {},
   "outputs": [],
   "source": [
    "# Append RAG Data for Knowledge\n",
    "context = \"\"\n",
    "if vector_data_results:\n",
    "    for data in vector_data_results:\n",
    "        context = context + data[\"payload\"][\"text\"]\n",
    "\n",
    "prompt = f\"\"\"\n",
    "Context Information:\n",
    "---------------------\n",
    "{context}\n",
    "---------------------\n",
    "Answer the following question using only the context information. If the question cannot be answered, say so.\n",
    "Query: {query}\n",
    "Answer:\n",
    "\"\"\"  # noqa: E501\n",
    "\n",
    "answer = llm_client.generate_completion(prompt)\n",
    "print(answer)"
   ]
  },
  {
   "cell_type": "markdown",
   "metadata": {},
   "source": [
    "# Delete Model Deployments"
   ]
  },
  {
   "cell_type": "code",
   "execution_count": null,
   "metadata": {},
   "outputs": [],
   "source": [
    "embedding_model_client.delete_deployment()\n",
    "llm_client.delete_deployment()"
   ]
  }
 ],
 "metadata": {
  "kernelspec": {
   "display_name": ".venv",
   "language": "python",
   "name": "python3"
  },
  "language_info": {
   "codemirror_mode": {
    "name": "ipython",
    "version": 3
   },
   "file_extension": ".py",
   "mimetype": "text/x-python",
   "name": "python",
   "nbconvert_exporter": "python",
   "pygments_lexer": "ipython3",
   "version": "3.10.14"
  }
 },
 "nbformat": 4,
 "nbformat_minor": 2
}
