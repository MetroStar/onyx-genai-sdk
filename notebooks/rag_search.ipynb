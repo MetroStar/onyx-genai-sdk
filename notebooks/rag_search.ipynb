{
 "cells": [
  {
   "cell_type": "markdown",
   "metadata": {},
   "source": [
    "# Setup Environment"
   ]
  },
  {
   "cell_type": "code",
   "execution_count": null,
   "metadata": {},
   "outputs": [],
   "source": [
    "# To run locally, uncomment the below\n",
    "# ! pip install -e ../\n",
    "\n",
    "# To run in Onyx, uncomment the below\n",
    "import sys\n",
    "sys.path.append(\"..\")\n",
    "\n",
    "from onyxgenai.embed import EmbeddingClient\n",
    "from onyxgenai.model import ModelClient\n",
    "\n",
    "# Set the model and embedding names\n",
    "embedding_model_name = \"all-MiniLM-L6-v2\"\n",
    "embedding_model_version = \"1\"\n",
    "language_model_name = \"Mistral-7B-Instruct-v0.3\"\n",
    "language_model_version = \"1\"\n",
    "\n",
    "embedding_client = EmbeddingClient(\"http://embed.onyx-services\")\n",
    "model_client = ModelClient(\"http://store.onyx-services\")"
   ]
  },
  {
   "cell_type": "markdown",
   "metadata": {},
   "source": [
    "# Deploy Embedding Model"
   ]
  },
  {
   "cell_type": "code",
   "execution_count": null,
   "metadata": {},
   "outputs": [],
   "source": [
    "response = model_client.deploy_model(embedding_model_name, embedding_model_version, 2, {\"num_cpus\": 2, \"memory\": 8000 * 1024 * 1024})\n",
    "print(response)"
   ]
  },
  {
   "cell_type": "markdown",
   "metadata": {},
   "source": [
    "# Deploy LLM"
   ]
  },
  {
   "cell_type": "code",
   "execution_count": null,
   "metadata": {},
   "outputs": [],
   "source": [
    "response = model_client.deploy_model(language_model_name, language_model_version, 1, {})\n",
    "print(response)"
   ]
  },
  {
   "cell_type": "markdown",
   "metadata": {},
   "source": [
    "# Embed Prompt for Vector Search"
   ]
  },
  {
   "cell_type": "code",
   "execution_count": null,
   "metadata": {},
   "outputs": [],
   "source": [
    "query = \"What is the capital of France?\"\n",
    "embeddings = model_client.embed_text(query, embedding_model_name)"
   ]
  },
  {
   "cell_type": "markdown",
   "metadata": {},
   "source": [
    "# Perform Vector Search"
   ]
  },
  {
   "cell_type": "code",
   "execution_count": null,
   "metadata": {},
   "outputs": [],
   "source": [
    "vector_data = embedding_client.vector_search(embeddings, \"test_collection\")\n",
    "print(vector_data)"
   ]
  },
  {
   "cell_type": "markdown",
   "metadata": {},
   "source": [
    "# Execute a RAG Search"
   ]
  },
  {
   "cell_type": "code",
   "execution_count": null,
   "metadata": {},
   "outputs": [],
   "source": [
    "# Append RAG Data for Knowledge\n",
    "context = \"\"\n",
    "if vector_data:\n",
    "    for data in vector_data:\n",
    "        context = context + data[\"payload\"][\"text\"]\n",
    "\n",
    "prompt = f\"\"\"\n",
    "Context Information:\n",
    "---------------------\n",
    "{context}\n",
    "---------------------\n",
    "Answer the following question using only the context information. If the question cannot be answered, say so.\n",
    "Query: {query}\n",
    "Answer:\n",
    "\"\"\"  # noqa: E501\n",
    "\n",
    "messages = [\n",
    "    { \"role\": \"user\", \"content\": prompt }\n",
    "]\n",
    "\n",
    "answer = model_client.generate_text(messages, model_name=language_model_name)\n",
    "print(answer)"
   ]
  },
  {
   "cell_type": "markdown",
   "metadata": {},
   "source": [
    "# Delete Model Deployments"
   ]
  },
  {
   "cell_type": "code",
   "execution_count": null,
   "metadata": {},
   "outputs": [],
   "source": [
    "model_client.delete_deployment(embedding_model_name)\n",
    "model_client.delete_deployment(language_model_name)"
   ]
  }
 ],
 "metadata": {
  "kernelspec": {
   "display_name": ".venv",
   "language": "python",
   "name": "python3"
  },
  "language_info": {
   "codemirror_mode": {
    "name": "ipython",
    "version": 3
   },
   "file_extension": ".py",
   "mimetype": "text/x-python",
   "name": "python",
   "nbconvert_exporter": "python",
   "pygments_lexer": "ipython3",
   "version": "3.10.14"
  }
 },
 "nbformat": 4,
 "nbformat_minor": 2
}
